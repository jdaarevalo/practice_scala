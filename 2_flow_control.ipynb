{
 "cells": [
  {
   "cell_type": "code",
   "execution_count": null,
   "metadata": {},
   "outputs": [],
   "source": [
    "if (1>3){\n",
    "    println(\"1 es mayor que 3\")\n",
    "}else{\n",
    "    println(\"the world makes sense\")\n",
    "}"
   ]
  },
  {
   "cell_type": "code",
   "execution_count": 4,
   "metadata": {},
   "outputs": [
    {
     "name": "stdout",
     "output_type": "stream",
     "text": [
      "the world makes sense\n"
     ]
    }
   ],
   "source": [
    "if (1>3) println(\"1 es mayor que 3\") else println(\"the world makes sense\")"
   ]
  },
  {
   "cell_type": "code",
   "execution_count": 5,
   "metadata": {},
   "outputs": [
    {
     "name": "stdout",
     "output_type": "stream",
     "text": [
      "tres\n"
     ]
    },
    {
     "data": {
      "text/plain": [
       "number = 3\n"
      ]
     },
     "metadata": {},
     "output_type": "display_data"
    },
    {
     "data": {
      "text/plain": [
       "3"
      ]
     },
     "execution_count": 5,
     "metadata": {},
     "output_type": "execute_result"
    }
   ],
   "source": [
    "val number = 3\n",
    "number match {\n",
    "    case 1 => println(\"one\")\n",
    "    case 2 => println(\"dos\")\n",
    "    case 3 => println(\"tres\")\n",
    "    case 4 => println(\"cuatro\")\n",
    "}"
   ]
  },
  {
   "cell_type": "code",
   "execution_count": 7,
   "metadata": {},
   "outputs": [
    {
     "name": "stdout",
     "output_type": "stream",
     "text": [
      "no se encontro\n"
     ]
    },
    {
     "data": {
      "text/plain": [
       "number = 25\n"
      ]
     },
     "metadata": {},
     "output_type": "display_data"
    },
    {
     "data": {
      "text/plain": [
       "lastException: Throwable = null\n"
      ]
     },
     "metadata": {},
     "output_type": "display_data"
    },
    {
     "data": {
      "text/plain": [
       "25"
      ]
     },
     "execution_count": 7,
     "metadata": {},
     "output_type": "execute_result"
    }
   ],
   "source": [
    "val number = 25\n",
    "number match {\n",
    "    case 1 => println(\"one\")\n",
    "    case 2 => println(\"dos\")\n",
    "    case 3 => println(\"tres\")\n",
    "    case 4 => println(\"cuatro\")\n",
    "    case _ => println(\"no se encontro\")\n",
    "}"
   ]
  },
  {
   "cell_type": "code",
   "execution_count": 10,
   "metadata": {},
   "outputs": [
    {
     "name": "stdout",
     "output_type": "stream",
     "text": [
      "the number is 1 and the squared is 1\n",
      "the number is 2 and the squared is 4\n",
      "the number is 3 and the squared is 9\n",
      "the number is 4 and the squared is 16\n"
     ]
    }
   ],
   "source": [
    "for (x <- 1 to 4){\n",
    "    val squared = x * x\n",
    "    println(s\"the number is $x and the squared is $squared\")\n",
    "}"
   ]
  },
  {
   "cell_type": "code",
   "execution_count": null,
   "metadata": {},
   "outputs": [],
   "source": [
    "var x = 0\n",
    "while (x >= 0){\n",
    "    println(x)\n",
    "    x -= 1\n",
    "}"
   ]
  },
  {
   "cell_type": "code",
   "execution_count": null,
   "metadata": {},
   "outputs": [],
   "source": []
  },
  {
   "cell_type": "code",
   "execution_count": null,
   "metadata": {},
   "outputs": [],
   "source": []
  },
  {
   "cell_type": "code",
   "execution_count": null,
   "metadata": {},
   "outputs": [],
   "source": []
  },
  {
   "cell_type": "code",
   "execution_count": null,
   "metadata": {},
   "outputs": [],
   "source": []
  }
 ],
 "metadata": {
  "kernelspec": {
   "display_name": "Apache Toree - Scala",
   "language": "scala",
   "name": "apache_toree_scala"
  },
  "language_info": {
   "codemirror_mode": "text/x-scala",
   "file_extension": ".scala",
   "mimetype": "text/x-scala",
   "name": "scala",
   "pygments_lexer": "scala",
   "version": "2.11.12"
  }
 },
 "nbformat": 4,
 "nbformat_minor": 2
}
